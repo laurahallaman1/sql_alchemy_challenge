{
  "nbformat": 4,
  "nbformat_minor": 0,
  "metadata": {
    "kernel_info": {
      "name": "python3"
    },
    "kernelspec": {
      "name": "python3",
      "language": "python",
      "display_name": "Python 3"
    },
    "language_info": {
      "name": "python",
      "version": "3.6.7",
      "mimetype": "text/x-python",
      "codemirror_mode": {
        "name": "ipython",
        "version": 3
      },
      "pygments_lexer": "ipython3",
      "nbconvert_exporter": "python",
      "file_extension": ".py"
    },
    "nteract": {
      "version": "0.12.3"
    },
    "varInspector": {
      "cols": {
        "lenName": 16,
        "lenType": 16,
        "lenVar": 40
      },
      "kernels_config": {
        "python": {
          "delete_cmd_postfix": "",
          "delete_cmd_prefix": "del ",
          "library": "var_list.py",
          "varRefreshCmd": "print(var_dic_list())"
        },
        "r": {
          "delete_cmd_postfix": ") ",
          "delete_cmd_prefix": "rm(",
          "library": "var_list.r",
          "varRefreshCmd": "cat(var_dic_list()) "
        }
      },
      "types_to_exclude": [
        "module",
        "function",
        "builtin_function_or_method",
        "instance",
        "_Feature"
      ],
      "window_display": false
    },
    "colab": {
      "name": "HawaiiClimateNotebook.ipynb",
      "provenance": [],
      "collapsed_sections": [],
      "toc_visible": true,
      "include_colab_link": true
    }
  },
  "cells": [
    {
      "cell_type": "markdown",
      "metadata": {
        "id": "view-in-github",
        "colab_type": "text"
      },
      "source": [
        "<a href=\"https://colab.research.google.com/github/laurahallaman1/sql_alchemy_challenge/blob/master/HawaiiClimateNotebook.ipynb\" target=\"_parent\"><img src=\"https://colab.research.google.com/assets/colab-badge.svg\" alt=\"Open In Colab\"/></a>"
      ]
    },
    {
      "cell_type": "code",
      "metadata": {
        "id": "iUBOk8HV8KFd",
        "colab_type": "code",
        "colab": {}
      },
      "source": [
        "%matplotlib inline\n",
        "from matplotlib import style\n",
        "style.use('fivethirtyeight')\n",
        "import matplotlib.pyplot as plt"
      ],
      "execution_count": 0,
      "outputs": []
    },
    {
      "cell_type": "code",
      "metadata": {
        "id": "dKJJLygf8KFh",
        "colab_type": "code",
        "colab": {}
      },
      "source": [
        "import numpy as np\n",
        "import pandas as pd"
      ],
      "execution_count": 0,
      "outputs": []
    },
    {
      "cell_type": "code",
      "metadata": {
        "id": "MZt8Fz4y8KFl",
        "colab_type": "code",
        "colab": {}
      },
      "source": [
        "import datetime as dt"
      ],
      "execution_count": 0,
      "outputs": []
    },
    {
      "cell_type": "markdown",
      "metadata": {
        "id": "D4ZSFaD28KGD",
        "colab_type": "text"
      },
      "source": [
        "# Reflect Tables into SQLAlchemy ORM"
      ]
    },
    {
      "cell_type": "code",
      "metadata": {
        "id": "vMkhgyLn8KGE",
        "colab_type": "code",
        "colab": {}
      },
      "source": [
        "# Python SQL toolkit and Object Relational Mapper\n",
        "import sqlalchemy\n",
        "from sqlalchemy.ext.automap import automap_base\n",
        "from sqlalchemy.orm import Session\n",
        "from sqlalchemy import create_engine, func"
      ],
      "execution_count": 0,
      "outputs": []
    },
    {
      "cell_type": "code",
      "metadata": {
        "id": "-thQgcF08KGK",
        "colab_type": "code",
        "colab": {}
      },
      "source": [
        "engine = create_engine(\"sqlite:///hawaii.sqlite\")"
      ],
      "execution_count": 0,
      "outputs": []
    },
    {
      "cell_type": "code",
      "metadata": {
        "id": "Zy37_WJO8KGN",
        "colab_type": "code",
        "colab": {}
      },
      "source": [
        "# reflect an existing database into a new model\n",
        "Base = automap_base()\n",
        "# reflect the tables\n",
        "Base.prepare(engine, reflect=True)"
      ],
      "execution_count": 0,
      "outputs": []
    },
    {
      "cell_type": "code",
      "metadata": {
        "id": "Vz1HtwtC8KGT",
        "colab_type": "code",
        "colab": {
          "base_uri": "https://localhost:8080/",
          "height": 34
        },
        "outputId": "00b610d3-8d40-49d4-8813-4ec36091e4b9"
      },
      "source": [
        "# We can view all of the classes that automap found\n",
        "Base.classes.keys()"
      ],
      "execution_count": 32,
      "outputs": [
        {
          "output_type": "execute_result",
          "data": {
            "text/plain": [
              "['measurement', 'station']"
            ]
          },
          "metadata": {
            "tags": []
          },
          "execution_count": 32
        }
      ]
    },
    {
      "cell_type": "code",
      "metadata": {
        "id": "U75DhF9_8KGW",
        "colab_type": "code",
        "colab": {}
      },
      "source": [
        "# Save references to each table\n",
        "Measurement = Base.classes.measurement\n",
        "Station = Base.classes.station"
      ],
      "execution_count": 0,
      "outputs": []
    },
    {
      "cell_type": "code",
      "metadata": {
        "id": "RxGZnNvo8KGo",
        "colab_type": "code",
        "colab": {}
      },
      "source": [
        "# Create our session (link) from Python to the DB\n",
        "session = Session(engine)"
      ],
      "execution_count": 0,
      "outputs": []
    },
    {
      "cell_type": "markdown",
      "metadata": {
        "id": "u16BwJO58KGr",
        "colab_type": "text"
      },
      "source": [
        "# Exploratory Climate Analysis"
      ]
    },
    {
      "cell_type": "code",
      "metadata": {
        "id": "ASdpqMBa8KGt",
        "colab_type": "code",
        "colab": {
          "base_uri": "https://localhost:8080/",
          "height": 392
        },
        "outputId": "222563cf-80f3-4d94-d681-5e3b322f4228"
      },
      "source": [
        "# Design a query to retrieve the last 12 months of precipitation data and plot the results\n",
        "\n",
        "# Calculate the date 1 year ago from the last data point in the database\n",
        "\n",
        "prev_year = dt.date(2017, 8, 23) - dt.timedelta(days=365)\n",
        "\n",
        "# Perform a query to retrieve the data and precipitation scores\n",
        "\n",
        "results = session.query(Measurement.date, Measurement.prcp).filter(Measurement.date >= prev_year).all()\n",
        "\n",
        "# Save the query results as a Pandas DataFrame and set the index to the date column\n",
        "\n",
        "df = pd.DataFrame(results, columns=['date', 'precipitation'])\n",
        "df.set_index(df['date'], inplace=True)\n",
        "\n",
        "# Sort the dataframe by date\n",
        "\n",
        "df = df.sort_index()\n",
        "\n",
        "# Use Pandas Plotting with Matplotlib to plot the data\n",
        "\n",
        "df.plot(rot=90)\n"
      ],
      "execution_count": 39,
      "outputs": [
        {
          "output_type": "execute_result",
          "data": {
            "text/plain": [
              "<matplotlib.axes._subplots.AxesSubplot at 0x7facce6ec748>"
            ]
          },
          "metadata": {
            "tags": []
          },
          "execution_count": 39
        },
        {
          "output_type": "display_data",
          "data": {
            "image/png": "[encoded data removed]",
            "text/plain": [
              "<Figure size 432x288 with 1 Axes>"
            ]
          },
          "metadata": {
            "tags": []
          }
        }
      ]
    },
    {
      "cell_type": "code",
      "metadata": {
        "id": "HqqENXkh8KGw",
        "colab_type": "code",
        "colab": {
          "base_uri": "https://localhost:8080/",
          "height": 297
        },
        "outputId": "d8ba47fe-ad11-40d4-8cff-c28650f7de45"
      },
      "source": [
        "# Use Pandas to calcualte the summary statistics for the precipitation data\n",
        "\n",
        "df.describe()"
      ],
      "execution_count": 40,
      "outputs": [
        {
          "output_type": "execute_result",
          "data": {
            "text/html": [
              "<div>\n",
              "<style scoped>\n",
              "    .dataframe tbody tr th:only-of-type {\n",
              "        vertical-align: middle;\n",
              "    }\n",
              "\n",
              "    .dataframe tbody tr th {\n",
              "        vertical-align: top;\n",
              "    }\n",
              "\n",
              "    .dataframe thead th {\n",
              "        text-align: right;\n",
              "    }\n",
              "</style>\n",
              "<table border=\"1\" class=\"dataframe\">\n",
              "  <thead>\n",
              "    <tr style=\"text-align: right;\">\n",
              "      <th></th>\n",
              "      <th>precipitation</th>\n",
              "    </tr>\n",
              "  </thead>\n",
              "  <tbody>\n",
              "    <tr>\n",
              "      <th>count</th>\n",
              "      <td>2021.000000</td>\n",
              "    </tr>\n",
              "    <tr>\n",
              "      <th>mean</th>\n",
              "      <td>0.177279</td>\n",
              "    </tr>\n",
              "    <tr>\n",
              "      <th>std</th>\n",
              "      <td>0.461190</td>\n",
              "    </tr>\n",
              "    <tr>\n",
              "      <th>min</th>\n",
              "      <td>0.000000</td>\n",
              "    </tr>\n",
              "    <tr>\n",
              "      <th>25%</th>\n",
              "      <td>0.000000</td>\n",
              "    </tr>\n",
              "    <tr>\n",
              "      <th>50%</th>\n",
              "      <td>0.020000</td>\n",
              "    </tr>\n",
              "    <tr>\n",
              "      <th>75%</th>\n",
              "      <td>0.130000</td>\n",
              "    </tr>\n",
              "    <tr>\n",
              "      <th>max</th>\n",
              "      <td>6.700000</td>\n",
              "    </tr>\n",
              "  </tbody>\n",
              "</table>\n",
              "</div>"
            ],
            "text/plain": [
              "       precipitation\n",
              "count    2021.000000\n",
              "mean        0.177279\n",
              "std         0.461190\n",
              "min         0.000000\n",
              "25%         0.000000\n",
              "50%         0.020000\n",
              "75%         0.130000\n",
              "max         6.700000"
            ]
          },
          "metadata": {
            "tags": []
          },
          "execution_count": 40
        }
      ]
    },
    {
      "cell_type": "code",
      "metadata": {
        "id": "CC9MDKQC8KGz",
        "colab_type": "code",
        "colab": {
          "base_uri": "https://localhost:8080/",
          "height": 34
        },
        "outputId": "e44983a0-6321-4c6d-a461-10c7e6f56f82"
      },
      "source": [
        "# Design a query to show how many stations are available in this dataset?\n",
        "\n",
        "session.query(func.count(Station.station)).all()\n"
      ],
      "execution_count": 41,
      "outputs": [
        {
          "output_type": "execute_result",
          "data": {
            "text/plain": [
              "[(9)]"
            ]
          },
          "metadata": {
            "tags": []
          },
          "execution_count": 41
        }
      ]
    },
    {
      "cell_type": "code",
      "metadata": {
        "id": "CDmWwxSV8KG2",
        "colab_type": "code",
        "colab": {
          "base_uri": "https://localhost:8080/",
          "height": 170
        },
        "outputId": "fc7d288b-93d7-4c49-d02d-d1c6078fcec4"
      },
      "source": [
        "# What are the most active stations? (i.e. what stations have the most rows)?\n",
        "# List the stations and the counts in descending order.\n",
        "\n",
        "session.query(Measurement.station, func.count(Measurement.station)).\\\n",
        "    group_by(Measurement.station).order_by(func.count(Measurement.station).desc()).all()"
      ],
      "execution_count": 44,
      "outputs": [
        {
          "output_type": "execute_result",
          "data": {
            "text/plain": [
              "[('USC00519281', 2772),\n",
              " ('USC00519397', 2724),\n",
              " ('USC00513117', 2709),\n",
              " ('USC00519523', 2669),\n",
              " ('USC00516128', 2612),\n",
              " ('USC00514830', 2202),\n",
              " ('USC00511918', 1979),\n",
              " ('USC00517948', 1372),\n",
              " ('USC00518838', 511)]"
            ]
          },
          "metadata": {
            "tags": []
          },
          "execution_count": 44
        }
      ]
    },
    {
      "cell_type": "code",
      "metadata": {
        "id": "DLRQ-ITQ8KG7",
        "colab_type": "code",
        "colab": {}
      },
      "source": [
        "# Using the station id from the previous query, calculate the lowest temperature recorded, \n",
        "# highest temperature recorded, and average temperature of the most active station?\n"
      ],
      "execution_count": 0,
      "outputs": []
    },
    {
      "cell_type": "code",
      "metadata": {
        "id": "YK70r9Jv8KG_",
        "colab_type": "code",
        "colab": {}
      },
      "source": [
        "# Choose the station with the highest number of temperature observations.\n",
        "# Query the last 12 months of temperature observation data for this station and plot the results as a histogram\n"
      ],
      "execution_count": 0,
      "outputs": []
    },
    {
      "cell_type": "code",
      "metadata": {
        "id": "XR4s1tCg8KHC",
        "colab_type": "code",
        "colab": {
          "base_uri": "https://localhost:8080/",
          "height": 34
        },
        "outputId": "07682669-e5a6-4e71-c64d-2fb485610675"
      },
      "source": [
        "# This function called `calc_temps` will accept start date and end date in the format '%Y-%m-%d' \n",
        "# and return the minimum, average, and maximum temperatures for that range of dates\n",
        "def calc_temps(start_date, end_date):\n",
        "    \"\"\"TMIN, TAVG, and TMAX for a list of dates.\n",
        "    \n",
        "    Args:\n",
        "        start_date (string): A date string in the format %Y-%m-%d\n",
        "        end_date (string): A date string in the format %Y-%m-%d\n",
        "        \n",
        "    Returns:\n",
        "        TMIN, TAVE, and TMAX\n",
        "    \"\"\"\n",
        "    \n",
        "    return session.query(func.min(Measurement.tobs), func.avg(Measurement.tobs), func.max(Measurement.tobs)).\\\n",
        "        filter(Measurement.date >= start_date).filter(Measurement.date <= end_date).all()\n",
        "\n",
        "# function usage example\n",
        "print(calc_temps('2012-02-28', '2012-03-05'))"
      ],
      "execution_count": 36,
      "outputs": [
        {
          "output_type": "stream",
          "text": [
            "[(62.0, 69.57142857142857, 74.0)]\n"
          ],
          "name": "stdout"
        }
      ]
    },
    {
      "cell_type": "code",
      "metadata": {
        "id": "Y4fJXqW-8KHG",
        "colab_type": "code",
        "colab": {
          "base_uri": "https://localhost:8080/",
          "height": 34
        },
        "outputId": "65b41b96-1862-4b18-9fb5-f2c92da068cd"
      },
      "source": [
        "# Use your previous function `calc_temps` to calculate the tmin, tavg, and tmax \n",
        "# for your trip using the previous year's data for those same dates.\n",
        "\n",
        "session.query(func.min(Measurement.tobs), func.max(Measurement.tobs), func.avg(Measurement.tobs)).\\\n",
        "    filter(Measurement.station == 'USC00519281').all()\n"
      ],
      "execution_count": 45,
      "outputs": [
        {
          "output_type": "execute_result",
          "data": {
            "text/plain": [
              "[(54.0, 85.0, 71.66378066378067)]"
            ]
          },
          "metadata": {
            "tags": []
          },
          "execution_count": 45
        }
      ]
    },
    {
      "cell_type": "code",
      "metadata": {
        "id": "owmcvqYo8KHL",
        "colab_type": "code",
        "colab": {
          "base_uri": "https://localhost:8080/",
          "height": 299
        },
        "outputId": "d5550204-6ede-4361-a329-db9ddb948b9d"
      },
      "source": [
        "# Plot the results from your previous query as a bar chart. \n",
        "# Use \"Trip Avg Temp\" as your Title\n",
        "# Use the average temperature for the y value\n",
        "# Use the peak-to-peak (tmax-tmin) value as the y error bar (yerr)\n",
        "\n",
        "import datetime as dt\n",
        "from pandas.plotting import table\n",
        "prev_year = dt.date(2017, 8, 23) - dt.timedelta(days=365)\n",
        "\n",
        "results = session.query(Measurement.tobs).\\\n",
        "    filter(Measurement.station == 'USC00519281').\\\n",
        "    filter(Measurement.date >= prev_year).all()\n",
        "df = pd.DataFrame(results, columns=['tobs'])\n",
        "df.plot.hist(bins=12)\n"
      ],
      "execution_count": 48,
      "outputs": [
        {
          "output_type": "execute_result",
          "data": {
            "text/plain": [
              "<matplotlib.axes._subplots.AxesSubplot at 0x7faccb83f8d0>"
            ]
          },
          "metadata": {
            "tags": []
          },
          "execution_count": 48
        },
        {
          "output_type": "display_data",
          "data": {
            "image/png": "[encoded data removed]",
            "text/plain": [
              "<Figure size 432x288 with 1 Axes>"
            ]
          },
          "metadata": {
            "tags": []
          }
        }
      ]
    },
    {
      "cell_type": "code",
      "metadata": {
        "id": "NvNcOKZ_8KHR",
        "colab_type": "code",
        "colab": {}
      },
      "source": [
        "# Calculate the total amount of rainfall per weather station for your trip dates using the previous year's matching dates.\n",
        "# Sort this in descending order by precipitation amount and list the station, name, latitude, longitude, and elevation\n",
        "\n"
      ],
      "execution_count": 0,
      "outputs": []
    },
    {
      "cell_type": "markdown",
      "metadata": {
        "id": "GxuB-8Qm8KHU",
        "colab_type": "text"
      },
      "source": [
        "## Optional Challenge Assignment"
      ]
    },
    {
      "cell_type": "code",
      "metadata": {
        "id": "jF1U41zm8KHU",
        "colab_type": "code",
        "colab": {
          "base_uri": "https://localhost:8080/",
          "height": 34
        },
        "outputId": "c55a563f-171f-4e39-d32d-ac3523fc2b60"
      },
      "source": [
        "# Create a query that will calculate the daily normals \n",
        "# (i.e. the averages for tmin, tmax, and tavg for all historic data matching a specific month and day)\n",
        "\n",
        "def daily_normals(date):\n",
        "    \"\"\"Daily Normals.\n",
        "    \n",
        "    Args:\n",
        "        date (str): A date string in the format '%m-%d'\n",
        "        \n",
        "    Returns:\n",
        "        A list of tuples containing the daily normals, tmin, tavg, and tmax\n",
        "    \n",
        "    \"\"\"\n",
        "    \n",
        "    sel = [func.min(Measurement.tobs), func.avg(Measurement.tobs), func.max(Measurement.tobs)]\n",
        "    return session.query(*sel).filter(func.strftime(\"%m-%d\", Measurement.date) == date).all()\n",
        "    \n",
        "daily_normals(\"01-01\")"
      ],
      "execution_count": 37,
      "outputs": [
        {
          "output_type": "execute_result",
          "data": {
            "text/plain": [
              "[(62.0, 69.15384615384616, 77.0)]"
            ]
          },
          "metadata": {
            "tags": []
          },
          "execution_count": 37
        }
      ]
    },
    {
      "cell_type": "code",
      "metadata": {
        "id": "6s35pv7M8KHW",
        "colab_type": "code",
        "colab": {}
      },
      "source": [
        "# calculate the daily normals for your trip\n",
        "# push each tuple of calculations into a list called `normals`\n",
        "\n",
        "# Set the start and end date of the trip\n",
        "\n",
        "# Use the start and end date to create a range of dates\n",
        "\n",
        "# Stip off the year and save a list of %m-%d strings\n",
        "\n",
        "# Loop through the list of %m-%d strings and calculate the normals for each date\n"
      ],
      "execution_count": 0,
      "outputs": []
    },
    {
      "cell_type": "code",
      "metadata": {
        "id": "eKCdh8HK8KHZ",
        "colab_type": "code",
        "colab": {}
      },
      "source": [
        "# Load the previous query results into a Pandas DataFrame and add the `trip_dates` range as the `date` index\n"
      ],
      "execution_count": 0,
      "outputs": []
    },
    {
      "cell_type": "code",
      "metadata": {
        "id": "nRBGHYm98KHc",
        "colab_type": "code",
        "colab": {}
      },
      "source": [
        "# Plot the daily normals as an area plot with `stacked=False`\n"
      ],
      "execution_count": 0,
      "outputs": []
    }
  ]
}